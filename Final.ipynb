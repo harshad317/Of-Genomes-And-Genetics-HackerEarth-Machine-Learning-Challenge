{
 "cells": [
  {
   "cell_type": "code",
   "execution_count": 1,
   "metadata": {},
   "outputs": [
    {
     "name": "stderr",
     "output_type": "stream",
     "text": [
      "C:\\Anaconda\\lib\\site-packages\\sklearn\\utils\\deprecation.py:143: FutureWarning: The sklearn.ensemble.forest module is  deprecated in version 0.22 and will be removed in version 0.24. The corresponding classes / functions should instead be imported from sklearn.ensemble. Anything that cannot be imported from sklearn.ensemble is now part of the private API.\n",
      "  warnings.warn(message, FutureWarning)\n"
     ]
    }
   ],
   "source": [
    "import pandas as pd\n",
    "import numpy as np\n",
    "import seaborn as sns\n",
    "import matplotlib.pyplot as plt\n",
    "\n",
    "from sklearn.preprocessing import MinMaxScaler, StandardScaler, LabelEncoder\n",
    "from sklearn.model_selection import StratifiedKFold, train_test_split\n",
    "from sklearn.metrics import f1_score\n",
    "\n",
    "from rfpimp import permutation_importances\n",
    "from sklearn.ensemble import RandomForestClassifier\n",
    "from xgboost import XGBClassifier\n",
    "from catboost import CatBoostClassifier\n",
    "from lightgbm import LGBMClassifier\n",
    "from category_encoders.james_stein import JamesSteinEncoder\n",
    "from category_encoders.woe import WOEEncoder"
   ]
  },
  {
   "cell_type": "code",
   "execution_count": 2,
   "metadata": {},
   "outputs": [],
   "source": [
    "train = pd.read_csv('train.csv')\n",
    "test = pd.read_csv('test.csv')\n",
    "sample = pd.read_csv('sample_submission.csv')"
   ]
  },
  {
   "cell_type": "code",
   "execution_count": 4,
   "metadata": {},
   "outputs": [],
   "source": [
    "df = pd.concat([train, test], axis= 0)"
   ]
  },
  {
   "cell_type": "code",
   "execution_count": 6,
   "metadata": {},
   "outputs": [],
   "source": [
    "ids = test['Patient Id']"
   ]
  },
  {
   "cell_type": "code",
   "execution_count": 7,
   "metadata": {},
   "outputs": [],
   "source": [
    "df = df.drop('Family Name', axis= 1)"
   ]
  },
  {
   "cell_type": "code",
   "execution_count": 8,
   "metadata": {
    "scrolled": false
   },
   "outputs": [
    {
     "data": {
      "text/plain": [
       "Patient Id                                           0.000000\n",
       "Patient Age                                          4.523266\n",
       "Genes in mother's side                               0.000000\n",
       "Inherited from father                                2.716495\n",
       "Maternal gene                                       20.708127\n",
       "Paternal gene                                        0.000000\n",
       "Blood cell count (mcL)                               0.000000\n",
       "Patient First Name                                   0.000000\n",
       "Father's name                                        0.000000\n",
       "Mother's age                                        19.132750\n",
       "Father's age                                        18.974261\n",
       "Institute Name                                      22.638519\n",
       "Location of Institute                                0.000000\n",
       "Status                                               0.000000\n",
       "Respiratory Rate (breaths/min)                      15.959807\n",
       "Heart Rate (rates/min                               15.890072\n",
       "Test 1                                               6.742107\n",
       "Test 2                                               6.821352\n",
       "Test 3                                               6.805503\n",
       "Test 4                                               6.783314\n",
       "Test 5                                               6.878408\n",
       "Parental consent                                     6.735768\n",
       "Follow-up                                            6.865728\n",
       "Gender                                               6.887917\n",
       "Birth asphyxia                                       6.780145\n",
       "Autopsy shows birth defect (if applicable)           3.252187\n",
       "Place of birth                                       6.732598\n",
       "Folic acid details (peri-conceptional)               6.710410\n",
       "H/O serious maternal illness                         6.821352\n",
       "H/O radiation exposure (x-ray)                       6.824521\n",
       "H/O substance abuse                                  6.957652\n",
       "Assisted conception IVF/ART                          6.726258\n",
       "History of anomalies in previous pregnancies         6.884747\n",
       "No. of previous abortion                             6.853049\n",
       "Birth defects                                        6.827691\n",
       "White Blood cell count (thousand per microliter)     6.808672\n",
       "Blood test result                                    6.799163\n",
       "Symptom 1                                            6.830861\n",
       "Symptom 2                                            7.043236\n",
       "Symptom 3                                            6.659693\n",
       "Symptom 4                                            6.697730\n",
       "Symptom 5                                            6.824521\n",
       "Genetic Disorder                                    36.804235\n",
       "Disorder Subclass                                   36.873970\n",
       "dtype: float64"
      ]
     },
     "execution_count": 8,
     "metadata": {},
     "output_type": "execute_result"
    }
   ],
   "source": [
    "df.isnull().mean() * 100"
   ]
  },
  {
   "cell_type": "code",
   "execution_count": 9,
   "metadata": {},
   "outputs": [],
   "source": [
    "df['Full_name']= df['Patient First Name'] + '_' + df[\"Father's name\"]"
   ]
  },
  {
   "cell_type": "code",
   "execution_count": 10,
   "metadata": {},
   "outputs": [],
   "source": [
    "df['Patient Age'].fillna(value=df['Patient Age'].median(), inplace=True, axis=0)"
   ]
  },
  {
   "cell_type": "code",
   "execution_count": 11,
   "metadata": {},
   "outputs": [],
   "source": [
    "ages = pd.get_dummies(df['Patient Age'], drop_first=True, prefix= 'age_')\n",
    "df = df.drop('Patient Age', axis =1)\n",
    "df= pd.concat([df, ages], axis=1)"
   ]
  },
  {
   "cell_type": "code",
   "execution_count": 12,
   "metadata": {},
   "outputs": [],
   "source": [
    "genes = pd.get_dummies(df[\"Genes in mother's side\"], drop_first=True, prefix= 'genes_')\n",
    "df = df.drop(\"Genes in mother's side\", axis= 1)\n",
    "df = pd.concat([df, genes], axis= 1)"
   ]
  },
  {
   "cell_type": "code",
   "execution_count": 13,
   "metadata": {},
   "outputs": [],
   "source": [
    "df['Inherited from father'].fillna(value=df['Inherited from father'].mode()[0], inplace=True, axis=0)\n",
    "fath = pd.get_dummies(df[\"Inherited from father\"], drop_first=True, prefix= 'father_')\n",
    "df = df.drop(\"Inherited from father\", axis= 1)\n",
    "df = pd.concat([df, fath], axis= 1)"
   ]
  },
  {
   "cell_type": "code",
   "execution_count": 14,
   "metadata": {},
   "outputs": [],
   "source": [
    "df['Maternal gene'].fillna(value=df['Maternal gene'].mode()[0], inplace=True, axis=0)\n",
    "maternal = pd.get_dummies(df[\"Maternal gene\"], drop_first=True, prefix= 'maternal_')\n",
    "df = df.drop(\"Maternal gene\", axis= 1)\n",
    "df = pd.concat([df, maternal], axis= 1)"
   ]
  },
  {
   "cell_type": "code",
   "execution_count": 15,
   "metadata": {},
   "outputs": [],
   "source": [
    "paternal = pd.get_dummies(df[\"Paternal gene\"], drop_first=True, prefix= 'paternal_')\n",
    "df = df.drop(\"Paternal gene\", axis= 1)\n",
    "df = pd.concat([df, paternal], axis= 1)"
   ]
  },
  {
   "cell_type": "code",
   "execution_count": 16,
   "metadata": {},
   "outputs": [],
   "source": [
    "df[\"Mother's age\"].fillna(value=df[\"Mother's age\"].median(), inplace=True, axis=0)\n",
    "df[\"Father's age\"].fillna(value=df[\"Father's age\"].median(), inplace=True, axis=0)"
   ]
  },
  {
   "cell_type": "code",
   "execution_count": 17,
   "metadata": {},
   "outputs": [],
   "source": [
    "df['Total_age']= df[\"Mother's age\"] + df[\"Father's age\"]"
   ]
  },
  {
   "cell_type": "code",
   "execution_count": 18,
   "metadata": {},
   "outputs": [],
   "source": [
    "df['Institute Name'].fillna(value=df['Institute Name'].mode()[0], inplace=True, axis= 0)"
   ]
  },
  {
   "cell_type": "code",
   "execution_count": 19,
   "metadata": {},
   "outputs": [],
   "source": [
    "stat = pd.get_dummies(df.Status, drop_first=True, prefix= 'statuss_')\n",
    "df = df.drop('Status', axis= 1)\n",
    "df = pd.concat([df,stat], axis=1)"
   ]
  },
  {
   "cell_type": "code",
   "execution_count": 20,
   "metadata": {},
   "outputs": [],
   "source": [
    "df['Respiratory Rate (breaths/min)'].fillna(value=df['Respiratory Rate (breaths/min)'].mode()[0], inplace=True, axis=0)\n",
    "respi = pd.get_dummies(df['Respiratory Rate (breaths/min)'], drop_first=True, prefix= 'respi_rate_')\n",
    "df = df.drop('Respiratory Rate (breaths/min)', axis= 1)\n",
    "df = pd.concat([df,respi], axis=1)"
   ]
  },
  {
   "cell_type": "code",
   "execution_count": 21,
   "metadata": {},
   "outputs": [],
   "source": [
    "df['Heart Rate (rates/min'].fillna(value=df['Heart Rate (rates/min'].mode()[0], inplace=True, axis= 0)\n",
    "h_rate = pd.get_dummies(df['Heart Rate (rates/min'], drop_first=True, prefix= 'heart_rate_')\n",
    "df = df.drop('Heart Rate (rates/min', axis= 1)\n",
    "df = pd.concat([df,h_rate], axis=1)"
   ]
  },
  {
   "cell_type": "code",
   "execution_count": 22,
   "metadata": {},
   "outputs": [],
   "source": [
    "df['Test 1'].fillna(value=-99, inplace=True, axis=0)\n",
    "df['Test 2'].fillna(value=-99, inplace=True, axis=0)\n",
    "df['Test 3'].fillna(value=-99, inplace=True, axis=0)\n",
    "df['Test 4'].fillna(value=-99, inplace=True, axis=0)\n",
    "df['Test 5'].fillna(value=-99, inplace=True, axis=0)"
   ]
  },
  {
   "cell_type": "code",
   "execution_count": 23,
   "metadata": {},
   "outputs": [],
   "source": [
    "test1 = pd.get_dummies(df['Test 1'], drop_first=True, prefix= 'test1_')\n",
    "df = df.drop('Test 1', axis= 1)\n",
    "df = pd.concat([df, test1], axis=1)\n",
    "\n",
    "test2 = pd.get_dummies(df['Test 2'], drop_first=True, prefix= 'test2_')\n",
    "df = df.drop('Test 2', axis= 1)\n",
    "df = pd.concat([df, test2], axis=1)\n",
    "\n",
    "test3 = pd.get_dummies(df['Test 3'], drop_first=True, prefix= 'test3_')\n",
    "df = df.drop('Test 3', axis= 1)\n",
    "df = pd.concat([df, test3], axis=1)\n",
    "\n",
    "test4 = pd.get_dummies(df['Test 4'], drop_first=True, prefix= 'test4_')\n",
    "df = df.drop('Test 4', axis= 1)\n",
    "df = pd.concat([df, test4], axis=1)\n",
    "\n",
    "test5 = pd.get_dummies(df['Test 5'], drop_first=True, prefix= 'test5_')\n",
    "df = df.drop('Test 5', axis= 1)\n",
    "df = pd.concat([df, test5], axis=1)"
   ]
  },
  {
   "cell_type": "code",
   "execution_count": 24,
   "metadata": {},
   "outputs": [],
   "source": [
    "df['Parental consent'].fillna(value='-99', inplace=True, axis=0)\n",
    "parent = pd.get_dummies(df['Parental consent'], drop_first=True, prefix= 'parent_')\n",
    "df = df.drop('Parental consent', axis= 1)\n",
    "df = pd.concat([df, parent], axis=1)"
   ]
  },
  {
   "cell_type": "code",
   "execution_count": 25,
   "metadata": {},
   "outputs": [],
   "source": [
    "df['Follow-up'].fillna(value='-99', inplace=True, axis=0)\n",
    "follow = pd.get_dummies(df['Follow-up'], drop_first=True, prefix= 'follow_')\n",
    "df = df.drop('Follow-up', axis= 1)\n",
    "df = pd.concat([df, follow], axis=1)"
   ]
  },
  {
   "cell_type": "code",
   "execution_count": 26,
   "metadata": {},
   "outputs": [],
   "source": [
    "df['Gender'].fillna(value='-99', inplace=True, axis= 0)\n",
    "gend = pd.get_dummies(df['Gender'], drop_first=True, prefix= 'gender_')\n",
    "df = df.drop('Gender', axis= 1)\n",
    "df = pd.concat([df, gend], axis=1)"
   ]
  },
  {
   "cell_type": "code",
   "execution_count": 27,
   "metadata": {},
   "outputs": [],
   "source": [
    "df['Birth asphyxia'].fillna(value='-99', inplace=True, axis=0)\n",
    "birth = pd.get_dummies(df['Birth asphyxia'], drop_first=True, prefix= 'birth_')\n",
    "df = df.drop('Birth asphyxia', axis= 1)\n",
    "df = pd.concat([df, birth], axis=1)"
   ]
  },
  {
   "cell_type": "code",
   "execution_count": 28,
   "metadata": {},
   "outputs": [],
   "source": [
    "df['Autopsy shows birth defect (if applicable)'].fillna(value='-99', inplace=True, axis=0)\n",
    "defect = pd.get_dummies(df['Autopsy shows birth defect (if applicable)'], drop_first=True, prefix= 'defect_')\n",
    "df = df.drop('Autopsy shows birth defect (if applicable)', axis= 1)\n",
    "df = pd.concat([df, defect], axis=1)"
   ]
  },
  {
   "cell_type": "code",
   "execution_count": 29,
   "metadata": {},
   "outputs": [],
   "source": [
    "df['Place of birth'].fillna(value='-99', inplace=True, axis=0)\n",
    "place = pd.get_dummies(df['Place of birth'], drop_first=True, prefix= 'place_')\n",
    "df = df.drop('Place of birth', axis= 1)\n",
    "df = pd.concat([df, place], axis=1)"
   ]
  },
  {
   "cell_type": "code",
   "execution_count": 30,
   "metadata": {},
   "outputs": [],
   "source": [
    "df['Folic acid details (peri-conceptional)'].fillna(value='-99', inplace=True, axis=0)\n",
    "folic = pd.get_dummies(df['Folic acid details (peri-conceptional)'], drop_first=True, prefix= 'folic_acid_')\n",
    "df = df.drop('Folic acid details (peri-conceptional)', axis= 1)\n",
    "df = pd.concat([df, folic], axis=1)"
   ]
  },
  {
   "cell_type": "code",
   "execution_count": 31,
   "metadata": {},
   "outputs": [],
   "source": [
    "df['H/O serious maternal illness'].fillna(value='-99', inplace=True, axis=0)\n",
    "mat = pd.get_dummies(df['H/O serious maternal illness'], drop_first=True, prefix= 'illness_')\n",
    "df = df.drop('H/O serious maternal illness', axis= 1)\n",
    "df = pd.concat([df, mat], axis=1)"
   ]
  },
  {
   "cell_type": "code",
   "execution_count": 32,
   "metadata": {},
   "outputs": [],
   "source": [
    "df['H/O radiation exposure (x-ray)']= df['H/O radiation exposure (x-ray)'].astype(str).replace('-', np.nan)\n",
    "df['H/O radiation exposure (x-ray)'].fillna(value='-99', inplace=True, axis=0)\n",
    "xray = pd.get_dummies(df['H/O radiation exposure (x-ray)'], drop_first=True, prefix= 'xray_')\n",
    "df = df.drop('H/O radiation exposure (x-ray)', axis= 1)\n",
    "df = pd.concat([df, xray], axis=1)"
   ]
  },
  {
   "cell_type": "code",
   "execution_count": 33,
   "metadata": {},
   "outputs": [],
   "source": [
    "df['H/O substance abuse']= df['H/O substance abuse'].astype(str).replace('-', '-99')\n",
    "df['H/O substance abuse'].fillna(value= '-99', inplace= True, axis= 0)\n",
    "abuse = pd.get_dummies(df['H/O substance abuse'], drop_first=True, prefix= 'abuse_')\n",
    "df = df.drop('H/O substance abuse', axis= 1)\n",
    "df = pd.concat([df, abuse], axis=1)"
   ]
  },
  {
   "cell_type": "code",
   "execution_count": 34,
   "metadata": {},
   "outputs": [],
   "source": [
    "df['Assisted conception IVF/ART'].fillna(value='-99', inplace=True, axis=0)\n",
    "assist = pd.get_dummies(df['Assisted conception IVF/ART'], drop_first=True, prefix= 'assist_')\n",
    "df = df.drop('Assisted conception IVF/ART', axis= 1)\n",
    "df = pd.concat([df, assist], axis=1)"
   ]
  },
  {
   "cell_type": "code",
   "execution_count": 35,
   "metadata": {},
   "outputs": [],
   "source": [
    "df['History of anomalies in previous pregnancies'].fillna(value='-99', inplace=True, axis=0)\n",
    "anomalies = pd.get_dummies(df['History of anomalies in previous pregnancies'], drop_first=True, prefix= 'anomalies_')\n",
    "df = df.drop('History of anomalies in previous pregnancies', axis= 1)\n",
    "df = pd.concat([df, anomalies], axis=1)"
   ]
  },
  {
   "cell_type": "code",
   "execution_count": 36,
   "metadata": {},
   "outputs": [],
   "source": [
    "df['No. of previous abortion'].fillna(value=-99, inplace=True, axis=0)\n",
    "abortion = pd.get_dummies(df['No. of previous abortion'], drop_first=True, prefix= 'abortion_')\n",
    "df = df.drop('No. of previous abortion', axis= 1)\n",
    "df = pd.concat([df, abortion], axis=1)"
   ]
  },
  {
   "cell_type": "code",
   "execution_count": 37,
   "metadata": {},
   "outputs": [],
   "source": [
    "df['Birth defects'].fillna(value='-99', inplace=True, axis=0)\n",
    "birth_def = pd.get_dummies(df['Birth defects'], drop_first=True, prefix= 'birth_def_')\n",
    "df = df.drop('Birth defects', axis= 1)\n",
    "df = pd.concat([df, birth_def], axis=1)"
   ]
  },
  {
   "cell_type": "code",
   "execution_count": 38,
   "metadata": {},
   "outputs": [],
   "source": [
    "df['White Blood cell count (thousand per microliter)'].fillna(value=df['White Blood cell count (thousand per microliter)'].median(), inplace=True, axis=0)"
   ]
  },
  {
   "cell_type": "code",
   "execution_count": 39,
   "metadata": {},
   "outputs": [],
   "source": [
    "df['Blood test result'].fillna(value='-99', axis=0, inplace=True)\n",
    "blood = pd.get_dummies(df['Blood test result'], drop_first=True, prefix= 'blood_result_')\n",
    "df = df.drop('Blood test result', axis= 1)\n",
    "df = pd.concat([df, blood], axis=1)"
   ]
  },
  {
   "cell_type": "code",
   "execution_count": 40,
   "metadata": {},
   "outputs": [],
   "source": [
    "df['Symptom 1'].fillna(value=-99, axis= 0, inplace=True)\n",
    "df['Symptom 2'].fillna(value=-99, axis= 0, inplace=True)\n",
    "df['Symptom 3'].fillna(value=-99, axis= 0, inplace=True)\n",
    "df['Symptom 4'].fillna(value=-99, axis= 0, inplace=True)\n",
    "df['Symptom 5'].fillna(value=-99, axis= 0, inplace=True)"
   ]
  },
  {
   "cell_type": "code",
   "execution_count": 41,
   "metadata": {},
   "outputs": [],
   "source": [
    "sym1 = pd.get_dummies(df['Symptom 1'], drop_first=True, prefix= 'sym1_')\n",
    "df = df.drop('Symptom 1', axis= 1)\n",
    "df = pd.concat([df, sym1], axis=1)\n",
    "\n",
    "sym2 = pd.get_dummies(df['Symptom 2'], drop_first=True, prefix= 'sym2_')\n",
    "df = df.drop('Symptom 2', axis= 1)\n",
    "df = pd.concat([df, sym2], axis=1)\n",
    "\n",
    "sym3 = pd.get_dummies(df['Symptom 3'], drop_first=True, prefix= 'sym3_')\n",
    "df = df.drop('Symptom 3', axis= 1)\n",
    "df = pd.concat([df, sym3], axis=1)\n",
    "\n",
    "sym4 = pd.get_dummies(df['Symptom 4'], drop_first=True, prefix= 'sym4_')\n",
    "df = df.drop('Symptom 4', axis= 1)\n",
    "df = pd.concat([df, sym4], axis=1)\n",
    "\n",
    "sym5 = pd.get_dummies(df['Symptom 5'], drop_first=True, prefix= 'sym5_')\n",
    "df = df.drop('Symptom 5', axis= 1)\n",
    "df = pd.concat([df, sym5], axis=1)"
   ]
  },
  {
   "cell_type": "code",
   "execution_count": 42,
   "metadata": {},
   "outputs": [],
   "source": [
    "le = LabelEncoder()\n",
    "le.fit(df['Institute Name'])\n",
    "df['Institute Name'] = le.transform(df['Institute Name'])"
   ]
  },
  {
   "cell_type": "code",
   "execution_count": 43,
   "metadata": {},
   "outputs": [],
   "source": [
    "le = LabelEncoder()\n",
    "le.fit(df['Location of Institute'])\n",
    "df['Location of Institute'] = le.transform(df['Location of Institute'])"
   ]
  },
  {
   "cell_type": "code",
   "execution_count": 44,
   "metadata": {},
   "outputs": [],
   "source": [
    "le = LabelEncoder()\n",
    "le.fit(df['Full_name'])\n",
    "df['Full_name'] = le.transform(df['Full_name'])"
   ]
  },
  {
   "cell_type": "code",
   "execution_count": null,
   "metadata": {},
   "outputs": [],
   "source": []
  },
  {
   "cell_type": "code",
   "execution_count": 46,
   "metadata": {},
   "outputs": [],
   "source": [
    "train = df[:22083]\n",
    "test = df[22083:]"
   ]
  },
  {
   "cell_type": "code",
   "execution_count": 47,
   "metadata": {},
   "outputs": [
    {
     "name": "stderr",
     "output_type": "stream",
     "text": [
      "<ipython-input-47-f039fae513fb>:1: SettingWithCopyWarning: \n",
      "A value is trying to be set on a copy of a slice from a DataFrame\n",
      "\n",
      "See the caveats in the documentation: https://pandas.pydata.org/pandas-docs/stable/user_guide/indexing.html#returning-a-view-versus-a-copy\n",
      "  train.dropna(axis=0, how='any', inplace=True)\n"
     ]
    }
   ],
   "source": [
    "train.dropna(axis=0, how='any', inplace=True)"
   ]
  },
  {
   "cell_type": "code",
   "execution_count": 48,
   "metadata": {},
   "outputs": [],
   "source": [
    "test = test.drop(['Genetic Disorder', 'Disorder Subclass'], axis= 1)"
   ]
  },
  {
   "cell_type": "code",
   "execution_count": 49,
   "metadata": {},
   "outputs": [
    {
     "name": "stderr",
     "output_type": "stream",
     "text": [
      "<ipython-input-49-e39f36aad10a>:1: SettingWithCopyWarning: \n",
      "A value is trying to be set on a copy of a slice from a DataFrame.\n",
      "Try using .loc[row_indexer,col_indexer] = value instead\n",
      "\n",
      "See the caveats in the documentation: https://pandas.pydata.org/pandas-docs/stable/user_guide/indexing.html#returning-a-view-versus-a-copy\n",
      "  train['Genetic Disorder'] = train['Genetic Disorder'].map({'Mitochondrial genetic inheritance disorders':0,\n",
      "<ipython-input-49-e39f36aad10a>:4: SettingWithCopyWarning: \n",
      "A value is trying to be set on a copy of a slice from a DataFrame.\n",
      "Try using .loc[row_indexer,col_indexer] = value instead\n",
      "\n",
      "See the caveats in the documentation: https://pandas.pydata.org/pandas-docs/stable/user_guide/indexing.html#returning-a-view-versus-a-copy\n",
      "  train['Disorder Subclass'] = train['Disorder Subclass'].map({\"Leber's hereditary optic neuropathy\":0,\n"
     ]
    }
   ],
   "source": [
    "train['Genetic Disorder'] = train['Genetic Disorder'].map({'Mitochondrial genetic inheritance disorders':0,\n",
    "                                                    'Multifactorial genetic inheritance disorders':1,\n",
    "                                                    'Single-gene inheritance diseases':2})\n",
    "train['Disorder Subclass'] = train['Disorder Subclass'].map({\"Leber's hereditary optic neuropathy\":0,\n",
    "                                                       'Diabetes':1,\n",
    "                                                       'Leigh syndrome':2,\n",
    "                                                       'Cancer':3,\n",
    "                                                       'Cystic fibrosis':4,\n",
    "                                                       'Tay-Sachs':5,\n",
    "                                                       'Hemochromatosis':6,\n",
    "                                                       'Mitochondrial myopathy':7,\n",
    "                                                       \"Alzheimer's\":8})"
   ]
  },
  {
   "cell_type": "code",
   "execution_count": null,
   "metadata": {},
   "outputs": [],
   "source": [
    "train.isnull().sum()"
   ]
  },
  {
   "cell_type": "code",
   "execution_count": 50,
   "metadata": {
    "scrolled": false
   },
   "outputs": [
    {
     "data": {
      "text/plain": [
       "['Patient Id',\n",
       " 'Patient First Name',\n",
       " \"Father's name\",\n",
       " 'Genetic Disorder',\n",
       " 'Disorder Subclass']"
      ]
     },
     "execution_count": 50,
     "metadata": {},
     "output_type": "execute_result"
    }
   ],
   "source": [
    "[var for var in df.columns if df[var].dtypes == 'O']"
   ]
  },
  {
   "cell_type": "code",
   "execution_count": null,
   "metadata": {
    "scrolled": true
   },
   "outputs": [],
   "source": [
    "train[cat_cols]"
   ]
  },
  {
   "cell_type": "code",
   "execution_count": null,
   "metadata": {},
   "outputs": [],
   "source": [
    "df['Patient First Name'].value_counts()"
   ]
  },
  {
   "cell_type": "code",
   "execution_count": null,
   "metadata": {},
   "outputs": [],
   "source": [
    "cat_cols = [\n",
    " 'Patient First Name',\n",
    " \"Father's name\",\n",
    " 'Institute Name',\n",
    " 'Location of Institute',\n",
    " 'Full_name']"
   ]
  },
  {
   "cell_type": "code",
   "execution_count": null,
   "metadata": {},
   "outputs": [],
   "source": []
  },
  {
   "cell_type": "code",
   "execution_count": 51,
   "metadata": {
    "scrolled": false
   },
   "outputs": [
    {
     "data": {
      "text/plain": [
       "['Blood cell count (mcL)',\n",
       " \"Mother's age\",\n",
       " \"Father's age\",\n",
       " 'Institute Name',\n",
       " 'Location of Institute',\n",
       " 'White Blood cell count (thousand per microliter)',\n",
       " 'Genetic Disorder',\n",
       " 'Disorder Subclass',\n",
       " 'Full_name',\n",
       " 'age__1.0',\n",
       " 'age__2.0',\n",
       " 'age__3.0',\n",
       " 'age__4.0',\n",
       " 'age__5.0',\n",
       " 'age__6.0',\n",
       " 'age__7.0',\n",
       " 'age__8.0',\n",
       " 'age__9.0',\n",
       " 'age__10.0',\n",
       " 'age__11.0',\n",
       " 'age__12.0',\n",
       " 'age__13.0',\n",
       " 'age__14.0',\n",
       " 'genes__Yes',\n",
       " 'father__Yes',\n",
       " 'maternal__Yes',\n",
       " 'paternal__Yes',\n",
       " 'Total_age',\n",
       " 'statuss__Deceased',\n",
       " 'respi_rate__Normal (30-60)',\n",
       " 'respi_rate__Tachypnea',\n",
       " 'heart_rate__Normal',\n",
       " 'heart_rate__Tachycardia',\n",
       " 'test1__0.0',\n",
       " 'test2__0.0',\n",
       " 'test3__0.0',\n",
       " 'test4__1.0',\n",
       " 'test5__0.0',\n",
       " 'parent__Yes',\n",
       " 'follow__High',\n",
       " 'follow__Low',\n",
       " 'gender__Ambiguous',\n",
       " 'gender__Female',\n",
       " 'gender__Male',\n",
       " 'birth__No',\n",
       " 'birth__No record',\n",
       " 'birth__Not available',\n",
       " 'birth__Yes',\n",
       " 'defect__No',\n",
       " 'defect__None',\n",
       " 'defect__Not applicable',\n",
       " 'defect__Yes',\n",
       " 'place__Home',\n",
       " 'place__Institute',\n",
       " 'folic_acid__No',\n",
       " 'folic_acid__Yes',\n",
       " 'illness__No',\n",
       " 'illness__Yes',\n",
       " 'xray__No',\n",
       " 'xray__Not applicable',\n",
       " 'xray__Yes',\n",
       " 'xray__nan',\n",
       " 'abuse__No',\n",
       " 'abuse__Not applicable',\n",
       " 'abuse__Yes',\n",
       " 'abuse__nan',\n",
       " 'assist__No',\n",
       " 'assist__Yes',\n",
       " 'anomalies__No',\n",
       " 'anomalies__Yes',\n",
       " 'abortion__0.0',\n",
       " 'abortion__1.0',\n",
       " 'abortion__2.0',\n",
       " 'abortion__3.0',\n",
       " 'abortion__4.0',\n",
       " 'birth_def__Multiple',\n",
       " 'birth_def__Singular',\n",
       " 'blood_result__abnormal',\n",
       " 'blood_result__inconclusive',\n",
       " 'blood_result__normal',\n",
       " 'blood_result__slightly abnormal',\n",
       " 'sym1__0.0',\n",
       " 'sym1__1.0',\n",
       " 'sym2__0.0',\n",
       " 'sym2__1.0',\n",
       " 'sym3__0.0',\n",
       " 'sym3__1.0',\n",
       " 'sym4__0.0',\n",
       " 'sym4__1.0',\n",
       " 'sym5__0.0',\n",
       " 'sym5__1.0']"
      ]
     },
     "execution_count": 51,
     "metadata": {},
     "output_type": "execute_result"
    }
   ],
   "source": [
    "[var for var in train.columns if train[var].dtypes != 'O']"
   ]
  },
  {
   "cell_type": "code",
   "execution_count": 52,
   "metadata": {},
   "outputs": [],
   "source": [
    "cont_cols= ['Blood cell count (mcL)',\n",
    " \"Mother's age\",\n",
    " \"Father's age\",\n",
    " 'Institute Name',\n",
    " 'Location of Institute',\n",
    " 'White Blood cell count (thousand per microliter)',\n",
    " 'Full_name',\n",
    " 'age__1.0',\n",
    " 'age__2.0',\n",
    " 'age__3.0',\n",
    " 'age__4.0',\n",
    " 'age__5.0',\n",
    " 'age__6.0',\n",
    " 'age__7.0',\n",
    " 'age__8.0',\n",
    " 'age__9.0',\n",
    " 'age__10.0',\n",
    " 'age__11.0',\n",
    " 'age__12.0',\n",
    " 'age__13.0',\n",
    " 'age__14.0',\n",
    " 'genes__Yes',\n",
    " 'father__Yes',\n",
    " 'maternal__Yes',\n",
    " 'paternal__Yes',\n",
    " 'Total_age',\n",
    " 'statuss__Deceased',\n",
    " 'respi_rate__Normal (30-60)',\n",
    " 'respi_rate__Tachypnea',\n",
    " 'heart_rate__Normal',\n",
    " 'heart_rate__Tachycardia',\n",
    " 'test1__0.0',\n",
    " 'test2__0.0',\n",
    " 'test3__0.0',\n",
    " 'test4__1.0',\n",
    " 'test5__0.0',\n",
    " 'parent__Yes',\n",
    " 'follow__High',\n",
    " 'follow__Low',\n",
    " 'gender__Ambiguous',\n",
    " 'gender__Female',\n",
    " 'gender__Male',\n",
    " 'birth__No',\n",
    " 'birth__No record',\n",
    " 'birth__Not available',\n",
    " 'birth__Yes',\n",
    " 'defect__No',\n",
    " 'defect__None',\n",
    " 'defect__Not applicable',\n",
    " 'defect__Yes',\n",
    " 'place__Home',\n",
    " 'place__Institute',\n",
    " 'folic_acid__No',\n",
    " 'folic_acid__Yes',\n",
    " 'illness__No',\n",
    " 'illness__Yes',\n",
    " 'xray__No',\n",
    " 'xray__Not applicable',\n",
    " 'xray__Yes',\n",
    " 'xray__nan',\n",
    " 'abuse__No',\n",
    " 'abuse__Not applicable',\n",
    " 'abuse__Yes',\n",
    " 'abuse__nan',\n",
    " 'assist__No',\n",
    " 'assist__Yes',\n",
    " 'anomalies__No',\n",
    " 'anomalies__Yes',\n",
    " 'abortion__0.0',\n",
    " 'abortion__1.0',\n",
    " 'abortion__2.0',\n",
    " 'abortion__3.0',\n",
    " 'abortion__4.0',\n",
    " 'birth_def__Multiple',\n",
    " 'birth_def__Singular',\n",
    " 'blood_result__abnormal',\n",
    " 'blood_result__inconclusive',\n",
    " 'blood_result__normal',\n",
    " 'blood_result__slightly abnormal',\n",
    " 'sym1__0.0',\n",
    " 'sym1__1.0',\n",
    " 'sym2__0.0',\n",
    " 'sym2__1.0',\n",
    " 'sym3__0.0',\n",
    " 'sym3__1.0',\n",
    " 'sym4__0.0',\n",
    " 'sym4__1.0',\n",
    " 'sym5__0.0',\n",
    " 'sym5__1.0']"
   ]
  },
  {
   "cell_type": "code",
   "execution_count": 88,
   "metadata": {},
   "outputs": [],
   "source": [
    "X_train = train[cont_cols]\n",
    "y_train = train['Disorder Subclass']\n",
    "X_test = test[cont_cols]"
   ]
  },
  {
   "cell_type": "code",
   "execution_count": 78,
   "metadata": {},
   "outputs": [],
   "source": [
    "X_train, X_test, y_train, y_test= train_test_split(X, y, test_size= 0.3, random_state=10, stratify= y)"
   ]
  },
  {
   "cell_type": "code",
   "execution_count": 84,
   "metadata": {},
   "outputs": [],
   "source": [
    "lgbm_param= {'reg_lambda': 0.9516558747237848,\n",
    " 'reg_alpha': 0.20014543420377964,\n",
    " 'colsample_bytree': 0.6,\n",
    " 'subsample': 1.0,\n",
    " 'learning_rate': 0.053365382483422465,\n",
    " 'max_depth': 7,\n",
    " 'min_child_samples': 113,\n",
    " 'num_leaves': 72}"
   ]
  },
  {
   "cell_type": "code",
   "execution_count": 68,
   "metadata": {
    "scrolled": false
   },
   "outputs": [
    {
     "name": "stdout",
     "output_type": "stream",
     "text": [
      "=============== Fold No: 1 ===============\n",
      "Training until validation scores don't improve for 30 rounds\n",
      "Early stopping, best iteration is:\n",
      "[107]\tvalid_0's multi_logloss: 1.33218\n",
      "0.31376583822217885\n",
      "=============== Fold No: 2 ===============\n",
      "Training until validation scores don't improve for 30 rounds\n",
      "Early stopping, best iteration is:\n",
      "[135]\tvalid_0's multi_logloss: 1.33655\n",
      "0.32247282796278953\n",
      "=============== Fold No: 3 ===============\n",
      "Training until validation scores don't improve for 30 rounds\n",
      "Early stopping, best iteration is:\n",
      "[118]\tvalid_0's multi_logloss: 1.33628\n",
      "0.31598474428753787\n",
      "=============== Fold No: 4 ===============\n",
      "Training until validation scores don't improve for 30 rounds\n",
      "Early stopping, best iteration is:\n",
      "[138]\tvalid_0's multi_logloss: 1.33202\n",
      "0.3127504152233966\n",
      "=============== Fold No: 5 ===============\n",
      "Training until validation scores don't improve for 30 rounds\n",
      "Early stopping, best iteration is:\n",
      "[170]\tvalid_0's multi_logloss: 1.32646\n",
      "0.3159548792301913\n",
      "=============== Fold No: 6 ===============\n",
      "Training until validation scores don't improve for 30 rounds\n",
      "Early stopping, best iteration is:\n",
      "[151]\tvalid_0's multi_logloss: 1.3308\n",
      "0.29273097765621914\n",
      "=============== Fold No: 7 ===============\n",
      "Training until validation scores don't improve for 30 rounds\n",
      "Early stopping, best iteration is:\n",
      "[110]\tvalid_0's multi_logloss: 1.34762\n",
      "0.31842180010144916\n",
      "=============== Fold No: 8 ===============\n",
      "Training until validation scores don't improve for 30 rounds\n",
      "Early stopping, best iteration is:\n",
      "[134]\tvalid_0's multi_logloss: 1.32959\n",
      "0.3410219813128467\n",
      "=============== Fold No: 9 ===============\n",
      "Training until validation scores don't improve for 30 rounds\n",
      "Early stopping, best iteration is:\n",
      "[111]\tvalid_0's multi_logloss: 1.33045\n",
      "0.2978662229119765\n",
      "=============== Fold No: 10 ===============\n",
      "Training until validation scores don't improve for 30 rounds\n",
      "Early stopping, best iteration is:\n",
      "[113]\tvalid_0's multi_logloss: 1.32501\n",
      "0.3301356352843846\n",
      "0.316110532219297\n"
     ]
    }
   ],
   "source": [
    "n_folds = 10\n",
    "subbed = []\n",
    "kf = StratifiedKFold(n_splits=n_folds, shuffle=True, random_state=10)\n",
    "\n",
    "\n",
    "for fold, (train_idx, test_idx) in enumerate(kf.split(X_train, y_train)):\n",
    "    print('=============== Fold No:',fold+1,'===============')\n",
    "    X_tr, X_tst = X_train.iloc[train_idx], X_train.iloc[test_idx]\n",
    "    y_tr, y_tst = y_train.iloc[train_idx], y_train.iloc[test_idx]\n",
    "    \n",
    "    model = LGBMClassifier(n_estimators=10000, random_state=10, **lgbm_param)\n",
    "    model.fit(X_tr, y_tr,eval_set=[(X_tst, y_tst)], early_stopping_rounds=30, verbose=500)\n",
    "    print(f1_score(y_tst, model.predict(X_tst), average='macro'))\n",
    "    subbed.append(f1_score(y_tst, model.predict(X_tst), average='macro'))\n",
    "    pred = model.predict(X_test)\n",
    "print(np.mean(subbed))"
   ]
  },
  {
   "cell_type": "code",
   "execution_count": null,
   "metadata": {
    "scrolled": true
   },
   "outputs": [],
   "source": [
    "pred"
   ]
  },
  {
   "cell_type": "code",
   "execution_count": 86,
   "metadata": {},
   "outputs": [
    {
     "data": {
      "text/html": [
       "<div>\n",
       "<style scoped>\n",
       "    .dataframe tbody tr th:only-of-type {\n",
       "        vertical-align: middle;\n",
       "    }\n",
       "\n",
       "    .dataframe tbody tr th {\n",
       "        vertical-align: top;\n",
       "    }\n",
       "\n",
       "    .dataframe thead th {\n",
       "        text-align: right;\n",
       "    }\n",
       "</style>\n",
       "<table border=\"1\" class=\"dataframe\">\n",
       "  <thead>\n",
       "    <tr style=\"text-align: right;\">\n",
       "      <th></th>\n",
       "      <th>0</th>\n",
       "    </tr>\n",
       "  </thead>\n",
       "  <tbody>\n",
       "    <tr>\n",
       "      <th>0</th>\n",
       "      <td>1</td>\n",
       "    </tr>\n",
       "    <tr>\n",
       "      <th>1</th>\n",
       "      <td>0</td>\n",
       "    </tr>\n",
       "    <tr>\n",
       "      <th>2</th>\n",
       "      <td>0</td>\n",
       "    </tr>\n",
       "    <tr>\n",
       "      <th>3</th>\n",
       "      <td>0</td>\n",
       "    </tr>\n",
       "    <tr>\n",
       "      <th>4</th>\n",
       "      <td>2</td>\n",
       "    </tr>\n",
       "    <tr>\n",
       "      <th>...</th>\n",
       "      <td>...</td>\n",
       "    </tr>\n",
       "    <tr>\n",
       "      <th>9460</th>\n",
       "      <td>0</td>\n",
       "    </tr>\n",
       "    <tr>\n",
       "      <th>9461</th>\n",
       "      <td>0</td>\n",
       "    </tr>\n",
       "    <tr>\n",
       "      <th>9462</th>\n",
       "      <td>0</td>\n",
       "    </tr>\n",
       "    <tr>\n",
       "      <th>9463</th>\n",
       "      <td>1</td>\n",
       "    </tr>\n",
       "    <tr>\n",
       "      <th>9464</th>\n",
       "      <td>1</td>\n",
       "    </tr>\n",
       "  </tbody>\n",
       "</table>\n",
       "<p>9465 rows × 1 columns</p>\n",
       "</div>"
      ],
      "text/plain": [
       "      0\n",
       "0     1\n",
       "1     0\n",
       "2     0\n",
       "3     0\n",
       "4     2\n",
       "...  ..\n",
       "9460  0\n",
       "9461  0\n",
       "9462  0\n",
       "9463  1\n",
       "9464  1\n",
       "\n",
       "[9465 rows x 1 columns]"
      ]
     },
     "execution_count": 86,
     "metadata": {},
     "output_type": "execute_result"
    }
   ],
   "source": [
    "predict_genetic = pd.DataFrame(pred)\n",
    "predict_genetic"
   ]
  },
  {
   "cell_type": "code",
   "execution_count": 90,
   "metadata": {},
   "outputs": [
    {
     "data": {
      "text/html": [
       "<div>\n",
       "<style scoped>\n",
       "    .dataframe tbody tr th:only-of-type {\n",
       "        vertical-align: middle;\n",
       "    }\n",
       "\n",
       "    .dataframe tbody tr th {\n",
       "        vertical-align: top;\n",
       "    }\n",
       "\n",
       "    .dataframe thead th {\n",
       "        text-align: right;\n",
       "    }\n",
       "</style>\n",
       "<table border=\"1\" class=\"dataframe\">\n",
       "  <thead>\n",
       "    <tr style=\"text-align: right;\">\n",
       "      <th></th>\n",
       "      <th>0</th>\n",
       "    </tr>\n",
       "  </thead>\n",
       "  <tbody>\n",
       "    <tr>\n",
       "      <th>0</th>\n",
       "      <td>1</td>\n",
       "    </tr>\n",
       "    <tr>\n",
       "      <th>1</th>\n",
       "      <td>7</td>\n",
       "    </tr>\n",
       "    <tr>\n",
       "      <th>2</th>\n",
       "      <td>7</td>\n",
       "    </tr>\n",
       "    <tr>\n",
       "      <th>3</th>\n",
       "      <td>4</td>\n",
       "    </tr>\n",
       "    <tr>\n",
       "      <th>4</th>\n",
       "      <td>4</td>\n",
       "    </tr>\n",
       "    <tr>\n",
       "      <th>...</th>\n",
       "      <td>...</td>\n",
       "    </tr>\n",
       "    <tr>\n",
       "      <th>9460</th>\n",
       "      <td>4</td>\n",
       "    </tr>\n",
       "    <tr>\n",
       "      <th>9461</th>\n",
       "      <td>4</td>\n",
       "    </tr>\n",
       "    <tr>\n",
       "      <th>9462</th>\n",
       "      <td>7</td>\n",
       "    </tr>\n",
       "    <tr>\n",
       "      <th>9463</th>\n",
       "      <td>1</td>\n",
       "    </tr>\n",
       "    <tr>\n",
       "      <th>9464</th>\n",
       "      <td>1</td>\n",
       "    </tr>\n",
       "  </tbody>\n",
       "</table>\n",
       "<p>9465 rows × 1 columns</p>\n",
       "</div>"
      ],
      "text/plain": [
       "      0\n",
       "0     1\n",
       "1     7\n",
       "2     7\n",
       "3     4\n",
       "4     4\n",
       "...  ..\n",
       "9460  4\n",
       "9461  4\n",
       "9462  7\n",
       "9463  1\n",
       "9464  1\n",
       "\n",
       "[9465 rows x 1 columns]"
      ]
     },
     "execution_count": 90,
     "metadata": {},
     "output_type": "execute_result"
    }
   ],
   "source": [
    "predict_subclass = pd.DataFrame(pred)\n",
    "predict_subclass"
   ]
  },
  {
   "cell_type": "code",
   "execution_count": 87,
   "metadata": {},
   "outputs": [],
   "source": [
    "predict_genetic['Genetic Disorder'] = predict_genetic[0].map({0:'Mitochondrial genetic inheritance disorders',\n",
    "                                                              1:'Multifactorial genetic inheritance disorders',\n",
    "                                                              2:'Single-gene inheritance diseases'})"
   ]
  },
  {
   "cell_type": "code",
   "execution_count": 91,
   "metadata": {},
   "outputs": [],
   "source": [
    "predict_subclass['Disorder Subclass'] = predict_subclass[0].map({0:\"Leber's hereditary optic neuropathy\",\n",
    "                                                                 1:'Diabetes',\n",
    "                                                                 2:'Leigh syndrome',\n",
    "                                                                 3:'Cancer',\n",
    "                                                                 4:'Cystic fibrosis',\n",
    "                                                                 5:'Tay-Sachs',\n",
    "                                                                 6:'Hemochromatosis',\n",
    "                                                                 7:'Mitochondrial myopathy',\n",
    "                                                                 8:\"Alzheimer's\"})"
   ]
  },
  {
   "cell_type": "code",
   "execution_count": null,
   "metadata": {},
   "outputs": [],
   "source": [
    "predict_genetic['Genetic Disorder']"
   ]
  },
  {
   "cell_type": "code",
   "execution_count": null,
   "metadata": {
    "scrolled": true
   },
   "outputs": [],
   "source": [
    "predict_subclass['Disorder Subclass']"
   ]
  },
  {
   "cell_type": "code",
   "execution_count": null,
   "metadata": {},
   "outputs": [],
   "source": [
    "df['Genetic Disorder']"
   ]
  },
  {
   "cell_type": "code",
   "execution_count": null,
   "metadata": {
    "scrolled": true
   },
   "outputs": [],
   "source": [
    "models= [LGBMClassifier(metric= 'multi_error'), XGBClassifier(eval_metric= 'merror'), \n",
    "        CatBoostClassifier(eval_metric='TotalF1', verbose=0)]\n",
    "for model in models:\n",
    "    model.fit(X_train, y_train)\n",
    "    pred= model.predict(X_test)\n",
    "    print(f1_score(y_test, pred, average='macro'))"
   ]
  },
  {
   "cell_type": "code",
   "execution_count": 89,
   "metadata": {},
   "outputs": [],
   "source": [
    "model= LGBMClassifier(**lgbm_param, random_state=10)\n",
    "model.fit(X_train, y_train)\n",
    "pred= model.predict(X_test)\n",
    "#print(f1_score(y_test, pred, average='macro'))"
   ]
  },
  {
   "cell_type": "code",
   "execution_count": 92,
   "metadata": {},
   "outputs": [],
   "source": [
    "sub = pd.DataFrame()\n",
    "sub['Patient Id'] = ids\n",
    "sub['Genetic Disorder'] = predict_genetic['Genetic Disorder']\n",
    "sub['Disorder Subclass'] = predict_subclass['Disorder Subclass']\n",
    "sub.to_csv('lgbm12.csv', index= False)"
   ]
  },
  {
   "cell_type": "code",
   "execution_count": null,
   "metadata": {},
   "outputs": [],
   "source": [
    "{'reg_lambda': 0.9516558747237848,\n",
    " 'reg_alpha': 0.20014543420377964,\n",
    " 'colsample_bytree': 0.6,\n",
    " 'subsample': 1.0,\n",
    " 'learning_rate': 0.053365382483422465,\n",
    " 'max_depth': 7,\n",
    " 'min_child_samples': 113,\n",
    " 'num_leaves': 72}"
   ]
  },
  {
   "cell_type": "code",
   "execution_count": 80,
   "metadata": {},
   "outputs": [],
   "source": [
    "# function for creating a feature importance dataframe\n",
    "def imp_df(column_names, importances):\n",
    "    df = pd.DataFrame({'feature': column_names,\n",
    "                       'feature_importance': importances}) \\\n",
    "           .sort_values('feature_importance', ascending = False) \\\n",
    "           .reset_index(drop = True)\n",
    "    return df\n",
    "\n",
    "# plotting a feature importance dataframe (horizontal barchart)\n",
    "def var_imp_plot(imp_df):\n",
    "    plt.figure(figsize=(15,10))\n",
    "    imp_df.columns = ['feature', 'feature_importance']\n",
    "    sns.barplot(x = 'feature_importance', y = 'feature', data = imp_df, orient = 'h', color = 'royalblue')"
   ]
  },
  {
   "cell_type": "code",
   "execution_count": 81,
   "metadata": {},
   "outputs": [],
   "source": [
    "def r2(rf, X_train, y_train):\n",
    "    return f1_score(y_test, pred, average='macro')\n",
    "\n",
    "perm_imp_rfpimp = permutation_importances(model, X_train, y_train, r2)\n",
    "perm_imp_rfpimp.reset_index(drop = False, inplace = True)"
   ]
  },
  {
   "cell_type": "code",
   "execution_count": 82,
   "metadata": {},
   "outputs": [
    {
     "data": {
      "image/png": "[encoded data removed]",
      "text/plain": [
       "<Figure size 1080x720 with 1 Axes>"
      ]
     },
     "metadata": {
      "needs_background": "light"
     },
     "output_type": "display_data"
    }
   ],
   "source": [
    "var_imp_plot(perm_imp_rfpimp)"
   ]
  },
  {
   "cell_type": "code",
   "execution_count": null,
   "metadata": {},
   "outputs": [],
   "source": []
  }
 ],
 "metadata": {
  "kernelspec": {
   "display_name": "Python 3",
   "language": "python",
   "name": "python3"
  },
  "language_info": {
   "codemirror_mode": {
    "name": "ipython",
    "version": 3
   },
   "file_extension": ".py",
   "mimetype": "text/x-python",
   "name": "python",
   "nbconvert_exporter": "python",
   "pygments_lexer": "ipython3",
   "version": "3.8.5"
  }
 },
 "nbformat": 4,
 "nbformat_minor": 4
}
